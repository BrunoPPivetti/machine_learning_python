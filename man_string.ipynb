{
 "cells": [
  {
   "cell_type": "markdown",
   "id": "898513d2",
   "metadata": {},
   "source": [
    "Manipulação de strings"
   ]
  },
  {
   "cell_type": "code",
   "execution_count": 2,
   "id": "3e0a5aee",
   "metadata": {},
   "outputs": [],
   "source": [
    "frase = 'Serei milionário'"
   ]
  },
  {
   "cell_type": "code",
   "execution_count": 6,
   "id": "5db8c140",
   "metadata": {},
   "outputs": [
    {
     "name": "stdout",
     "output_type": "stream",
     "text": [
      "rei \n",
      "rei milionário\n",
      "r ln\n"
     ]
    }
   ],
   "source": [
    "print(frase[2:6])\n",
    "print(frase[2:])\n",
    "print(frase[2:13:3])"
   ]
  },
  {
   "cell_type": "code",
   "execution_count": 7,
   "id": "e755a60d",
   "metadata": {},
   "outputs": [
    {
     "data": {
      "text/plain": [
       "4"
      ]
     },
     "execution_count": 7,
     "metadata": {},
     "output_type": "execute_result"
    }
   ],
   "source": [
    "frase.count('i')"
   ]
  },
  {
   "cell_type": "code",
   "execution_count": 8,
   "id": "7e300197",
   "metadata": {},
   "outputs": [
    {
     "data": {
      "text/plain": [
       "16"
      ]
     },
     "execution_count": 8,
     "metadata": {},
     "output_type": "execute_result"
    }
   ],
   "source": [
    "len(frase)"
   ]
  },
  {
   "cell_type": "code",
   "execution_count": 9,
   "id": "93e543db",
   "metadata": {},
   "outputs": [
    {
     "data": {
      "text/plain": [
       "'Sou milionário'"
      ]
     },
     "execution_count": 9,
     "metadata": {},
     "output_type": "execute_result"
    }
   ],
   "source": [
    "frase.replace('Serei','Sou')"
   ]
  }
 ],
 "metadata": {
  "kernelspec": {
   "display_name": "Python 3",
   "language": "python",
   "name": "python3"
  },
  "language_info": {
   "codemirror_mode": {
    "name": "ipython",
    "version": 3
   },
   "file_extension": ".py",
   "mimetype": "text/x-python",
   "name": "python",
   "nbconvert_exporter": "python",
   "pygments_lexer": "ipython3",
   "version": "3.11.5"
  }
 },
 "nbformat": 4,
 "nbformat_minor": 5
}
