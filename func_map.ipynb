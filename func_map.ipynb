{
 "cells": [
  {
   "cell_type": "markdown",
   "id": "cf036597",
   "metadata": {},
   "source": [
    "Função map\n",
    "Aplica um conjunto de dados a uma função\n",
    "+\n",
    "Compreensão de lista"
   ]
  },
  {
   "cell_type": "code",
   "execution_count": 2,
   "id": "0b33b811",
   "metadata": {},
   "outputs": [],
   "source": [
    "kmh = [40, 50, 56, 64, 73, 79, 85, 91, 96, 101]"
   ]
  },
  {
   "cell_type": "code",
   "execution_count": 3,
   "id": "66f011a5",
   "metadata": {},
   "outputs": [
    {
     "data": {
      "text/plain": [
       "[24.844720496894407,\n",
       " 31.05590062111801,\n",
       " 34.78260869565217,\n",
       " 39.75155279503105,\n",
       " 45.3416149068323,\n",
       " 49.06832298136646,\n",
       " 52.795031055900616,\n",
       " 56.52173913043478,\n",
       " 59.62732919254658,\n",
       " 62.732919254658384]"
      ]
     },
     "execution_count": 3,
     "metadata": {},
     "output_type": "execute_result"
    }
   ],
   "source": [
    "mph = []\n",
    "for i in kmh:\n",
    "    mph.append(i/1.61)\n",
    "mph"
   ]
  },
  {
   "cell_type": "code",
   "execution_count": 4,
   "id": "24fdd163",
   "metadata": {},
   "outputs": [
    {
     "data": {
      "text/plain": [
       "[24.844720496894407,\n",
       " 31.05590062111801,\n",
       " 34.78260869565217,\n",
       " 39.75155279503105,\n",
       " 45.3416149068323,\n",
       " 49.06832298136646,\n",
       " 52.795031055900616,\n",
       " 56.52173913043478,\n",
       " 59.62732919254658,\n",
       " 62.732919254658384]"
      ]
     },
     "execution_count": 4,
     "metadata": {},
     "output_type": "execute_result"
    }
   ],
   "source": [
    "mph2 = map(lambda x: x/1.61, kmh)\n",
    "list(mph2)\n"
   ]
  },
  {
   "cell_type": "code",
   "execution_count": 5,
   "id": "7eb21ffc",
   "metadata": {},
   "outputs": [
    {
     "data": {
      "text/plain": [
       "[24.844720496894407,\n",
       " 31.05590062111801,\n",
       " 34.78260869565217,\n",
       " 39.75155279503105,\n",
       " 45.3416149068323,\n",
       " 49.06832298136646,\n",
       " 52.795031055900616,\n",
       " 56.52173913043478,\n",
       " 59.62732919254658,\n",
       " 62.732919254658384]"
      ]
     },
     "execution_count": 5,
     "metadata": {},
     "output_type": "execute_result"
    }
   ],
   "source": [
    "mph3 = [x/1.61 for x in kmh]\n",
    "mph3"
   ]
  },
  {
   "cell_type": "code",
   "execution_count": 6,
   "id": "e6d578bd",
   "metadata": {},
   "outputs": [
    {
     "data": {
      "text/plain": [
       "['D', 'i', 'd', 'a', 't', 'i', 'c', 'a', ' ', 't', 'e', 'c', 'h']"
      ]
     },
     "execution_count": 6,
     "metadata": {},
     "output_type": "execute_result"
    }
   ],
   "source": [
    "caracteres = [i for i in 'Didatica tech']\n",
    "caracteres"
   ]
  },
  {
   "cell_type": "code",
   "execution_count": null,
   "id": "248e1862",
   "metadata": {},
   "outputs": [],
   "source": []
  }
 ],
 "metadata": {
  "kernelspec": {
   "display_name": "Python 3",
   "language": "python",
   "name": "python3"
  },
  "language_info": {
   "codemirror_mode": {
    "name": "ipython",
    "version": 3
   },
   "file_extension": ".py",
   "mimetype": "text/x-python",
   "name": "python",
   "nbconvert_exporter": "python",
   "pygments_lexer": "ipython3",
   "version": "3.11.5"
  }
 },
 "nbformat": 4,
 "nbformat_minor": 5
}
