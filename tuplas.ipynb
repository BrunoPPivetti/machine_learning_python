{
 "cells": [
  {
   "cell_type": "markdown",
   "id": "2df23c1a",
   "metadata": {},
   "source": [
    "Revisão de tuplas\n",
    "- a diferença é que uma tupla não pode ser alterada"
   ]
  },
  {
   "cell_type": "code",
   "execution_count": 9,
   "id": "c91cace2",
   "metadata": {},
   "outputs": [],
   "source": [
    "lista = [2, 4, 7]"
   ]
  },
  {
   "cell_type": "code",
   "execution_count": 10,
   "id": "e5a3406c",
   "metadata": {},
   "outputs": [
    {
     "data": {
      "text/plain": [
       "[20, 4, 7]"
      ]
     },
     "execution_count": 10,
     "metadata": {},
     "output_type": "execute_result"
    }
   ],
   "source": [
    "lista[0] = 20\n",
    "lista"
   ]
  },
  {
   "cell_type": "code",
   "execution_count": 2,
   "id": "a33371e1",
   "metadata": {},
   "outputs": [],
   "source": [
    "tupla = (6, 8, 9)"
   ]
  },
  {
   "cell_type": "code",
   "execution_count": 3,
   "id": "19646960",
   "metadata": {},
   "outputs": [
    {
     "data": {
      "text/plain": [
       "6"
      ]
     },
     "execution_count": 3,
     "metadata": {},
     "output_type": "execute_result"
    }
   ],
   "source": [
    "tupla[0]"
   ]
  },
  {
   "cell_type": "code",
   "execution_count": 5,
   "id": "b9b6fd64",
   "metadata": {},
   "outputs": [
    {
     "ename": "TypeError",
     "evalue": "'tuple' object does not support item assignment",
     "output_type": "error",
     "traceback": [
      "\u001b[31m---------------------------------------------------------------------------\u001b[39m",
      "\u001b[31mTypeError\u001b[39m                                 Traceback (most recent call last)",
      "\u001b[36mCell\u001b[39m\u001b[36m \u001b[39m\u001b[32mIn[5]\u001b[39m\u001b[32m, line 1\u001b[39m\n\u001b[32m----> \u001b[39m\u001b[32m1\u001b[39m \u001b[43mtupla\u001b[49m\u001b[43m[\u001b[49m\u001b[32;43m0\u001b[39;49m\u001b[43m]\u001b[49m = \u001b[32m20\u001b[39m\n\u001b[32m      2\u001b[39m tupla\n",
      "\u001b[31mTypeError\u001b[39m: 'tuple' object does not support item assignment"
     ]
    }
   ],
   "source": [
    "tupla[0] = 20\n",
    "tupla"
   ]
  },
  {
   "cell_type": "code",
   "execution_count": 11,
   "id": "c78e9626",
   "metadata": {},
   "outputs": [
    {
     "data": {
      "text/plain": [
       "[4, 7]"
      ]
     },
     "execution_count": 11,
     "metadata": {},
     "output_type": "execute_result"
    }
   ],
   "source": [
    "del lista[0]\n",
    "lista"
   ]
  },
  {
   "cell_type": "code",
   "execution_count": null,
   "id": "f850a366",
   "metadata": {},
   "outputs": [
    {
     "ename": "TypeError",
     "evalue": "'tuple' object doesn't support item deletion",
     "output_type": "error",
     "traceback": [
      "\u001b[31m---------------------------------------------------------------------------\u001b[39m",
      "\u001b[31mTypeError\u001b[39m                                 Traceback (most recent call last)",
      "\u001b[36mCell\u001b[39m\u001b[36m \u001b[39m\u001b[32mIn[12]\u001b[39m\u001b[32m, line 1\u001b[39m\n\u001b[32m----> \u001b[39m\u001b[32m1\u001b[39m \u001b[38;5;28;01mdel\u001b[39;00m \u001b[43mtupla\u001b[49m\u001b[43m[\u001b[49m\u001b[32;43m1\u001b[39;49m\u001b[43m]\u001b[49m\n",
      "\u001b[31mTypeError\u001b[39m: 'tuple' object doesn't support item deletion"
     ]
    }
   ],
   "source": [
    "del tupla[1]"
   ]
  },
  {
   "cell_type": "code",
   "execution_count": 15,
   "id": "d3303d46",
   "metadata": {},
   "outputs": [
    {
     "name": "stdout",
     "output_type": "stream",
     "text": [
      "<class 'tuple'>\n",
      "(4, 7)\n"
     ]
    }
   ],
   "source": [
    "novaTupla = tuple(lista)\n",
    "print(type(novaTupla))\n",
    "print(novaTupla)"
   ]
  },
  {
   "cell_type": "code",
   "execution_count": 19,
   "id": "0f48f3e1",
   "metadata": {},
   "outputs": [
    {
     "name": "stdout",
     "output_type": "stream",
     "text": [
      "<class 'int'>\n"
     ]
    }
   ],
   "source": [
    "numero = (3)\n",
    "print(type(numero))"
   ]
  },
  {
   "cell_type": "code",
   "execution_count": null,
   "id": "c2bc1461",
   "metadata": {},
   "outputs": [
    {
     "name": "stdout",
     "output_type": "stream",
     "text": [
      "<class 'tuple'>\n"
     ]
    }
   ],
   "source": [
    "numero = (3,)\n",
    "print(type(numero))\n",
    "#para ser uma tupla com um elemento, precisa de pelo menos uma virgula\n",
    "#depois do elemento"
   ]
  }
 ],
 "metadata": {
  "kernelspec": {
   "display_name": "Python 3",
   "language": "python",
   "name": "python3"
  },
  "language_info": {
   "codemirror_mode": {
    "name": "ipython",
    "version": 3
   },
   "file_extension": ".py",
   "mimetype": "text/x-python",
   "name": "python",
   "nbconvert_exporter": "python",
   "pygments_lexer": "ipython3",
   "version": "3.11.5"
  }
 },
 "nbformat": 4,
 "nbformat_minor": 5
}
