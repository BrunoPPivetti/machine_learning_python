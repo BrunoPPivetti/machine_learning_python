{
 "cells": [
  {
   "cell_type": "markdown",
   "id": "4b0726a9",
   "metadata": {},
   "source": [
    "Função lambda\n",
    "Forma mais concisa de criar funções"
   ]
  },
  {
   "cell_type": "code",
   "execution_count": 1,
   "id": "35e0f9d0",
   "metadata": {},
   "outputs": [],
   "source": [
    "def somaQuadrados(a, b):\n",
    "    somaQ = a **2 + b**2\n",
    "    return somaQ"
   ]
  },
  {
   "cell_type": "code",
   "execution_count": 2,
   "id": "7b11e556",
   "metadata": {},
   "outputs": [
    {
     "data": {
      "text/plain": [
       "25"
      ]
     },
     "execution_count": 2,
     "metadata": {},
     "output_type": "execute_result"
    }
   ],
   "source": [
    "somaQuadrados(3,4)"
   ]
  },
  {
   "cell_type": "code",
   "execution_count": null,
   "id": "d25d24bf",
   "metadata": {},
   "outputs": [],
   "source": [
    "somaQuadrados2 = lambda a, b: a**2 + b**2\n",
    "#variável(nome da função) = lambda parâmetros: o que a função faz"
   ]
  },
  {
   "cell_type": "code",
   "execution_count": 4,
   "id": "f8ca7f36",
   "metadata": {},
   "outputs": [
    {
     "data": {
      "text/plain": [
       "25"
      ]
     },
     "execution_count": 4,
     "metadata": {},
     "output_type": "execute_result"
    }
   ],
   "source": [
    "somaQuadrados2(3,4)"
   ]
  }
 ],
 "metadata": {
  "kernelspec": {
   "display_name": "Python 3",
   "language": "python",
   "name": "python3"
  },
  "language_info": {
   "codemirror_mode": {
    "name": "ipython",
    "version": 3
   },
   "file_extension": ".py",
   "mimetype": "text/x-python",
   "name": "python",
   "nbconvert_exporter": "python",
   "pygments_lexer": "ipython3",
   "version": "3.11.5"
  }
 },
 "nbformat": 4,
 "nbformat_minor": 5
}
