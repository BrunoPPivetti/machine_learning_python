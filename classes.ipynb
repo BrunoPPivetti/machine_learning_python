{
 "cells": [
  {
   "cell_type": "markdown",
   "id": "e27209ba",
   "metadata": {},
   "source": [
    "Classes"
   ]
  },
  {
   "cell_type": "code",
   "execution_count": 1,
   "id": "4298b500",
   "metadata": {},
   "outputs": [],
   "source": [
    "def teste(v, i):\n",
    "    valor = v\n",
    "    incremento = i\n",
    "    resultado = valor + incremento\n",
    "    return resultado"
   ]
  },
  {
   "cell_type": "code",
   "execution_count": 2,
   "id": "b3615c3a",
   "metadata": {},
   "outputs": [
    {
     "data": {
      "text/plain": [
       "11"
      ]
     },
     "execution_count": 2,
     "metadata": {},
     "output_type": "execute_result"
    }
   ],
   "source": [
    "a = teste(10,1)\n",
    "a"
   ]
  },
  {
   "cell_type": "code",
   "execution_count": 3,
   "id": "7a5fe0cf",
   "metadata": {},
   "outputs": [],
   "source": [
    "#funcao()\n",
    "#ClasseTeste()\n",
    "#metodo_teste()\n",
    "#função dentro de uma classe precisa ter o parâmetro \"Self\"\n",
    "class TesteMl:\n",
    "    def incrementa(self, v, i):\n",
    "        valor = v\n",
    "        incremento = i\n",
    "        resultado = valor + incremento\n",
    "        return resultado"
   ]
  },
  {
   "cell_type": "code",
   "execution_count": 4,
   "id": "a2799052",
   "metadata": {},
   "outputs": [],
   "source": [
    "a = TesteMl()"
   ]
  },
  {
   "cell_type": "code",
   "execution_count": 5,
   "id": "5dabb89e",
   "metadata": {},
   "outputs": [
    {
     "data": {
      "text/plain": [
       "11"
      ]
     },
     "execution_count": 5,
     "metadata": {},
     "output_type": "execute_result"
    }
   ],
   "source": [
    "b = a.incrementa(10,1)\n",
    "b"
   ]
  },
  {
   "cell_type": "code",
   "execution_count": 6,
   "id": "ddcc7a25",
   "metadata": {},
   "outputs": [
    {
     "data": {
      "text/plain": [
       "11"
      ]
     },
     "execution_count": 6,
     "metadata": {},
     "output_type": "execute_result"
    }
   ],
   "source": [
    "a = TesteMl().incrementa(10,1)\n",
    "a"
   ]
  },
  {
   "cell_type": "code",
   "execution_count": 7,
   "id": "be07a67a",
   "metadata": {},
   "outputs": [],
   "source": [
    "class TesteMl:\n",
    "    def incrementa(self, v, i):\n",
    "        self.valor = v\n",
    "        self.incremento = i\n",
    "        self.resultado = self.valor + self.incremento\n",
    "        return self.resultado"
   ]
  },
  {
   "cell_type": "code",
   "execution_count": 8,
   "id": "bd84a69f",
   "metadata": {},
   "outputs": [],
   "source": [
    "a = TesteMl()"
   ]
  },
  {
   "cell_type": "code",
   "execution_count": 9,
   "id": "f55f14fe",
   "metadata": {},
   "outputs": [
    {
     "data": {
      "text/plain": [
       "11"
      ]
     },
     "execution_count": 9,
     "metadata": {},
     "output_type": "execute_result"
    }
   ],
   "source": [
    "b = a.incrementa(10,1)\n",
    "b"
   ]
  },
  {
   "cell_type": "code",
   "execution_count": 10,
   "id": "aef09a51",
   "metadata": {},
   "outputs": [
    {
     "data": {
      "text/plain": [
       "10"
      ]
     },
     "execution_count": 10,
     "metadata": {},
     "output_type": "execute_result"
    }
   ],
   "source": [
    "#é possível por causa do '.self'. Agora, os atributos da classe passam a ter o valor atribuido\n",
    "#a uma variável\n",
    "a.valor"
   ]
  },
  {
   "cell_type": "code",
   "execution_count": 11,
   "id": "69afd73a",
   "metadata": {},
   "outputs": [],
   "source": [
    "class TesteMl:\n",
    "    #metodo construtor\n",
    "    #agora self.valor e self.incremento podem ser usados dentro de outros métodos\n",
    "    def __init__(self, v:int, i:int):\n",
    "        self.valor = v\n",
    "        self.incremento = i\n",
    "    def incrementa(self):\n",
    "        self.valor += self.incremento"
   ]
  },
  {
   "cell_type": "code",
   "execution_count": 12,
   "id": "2016985e",
   "metadata": {},
   "outputs": [],
   "source": [
    "#a classe toda possui os atributos, então não precisa especificar o método\n",
    "a = TesteMl(10,1)"
   ]
  },
  {
   "cell_type": "code",
   "execution_count": 13,
   "id": "fc6e7781",
   "metadata": {},
   "outputs": [
    {
     "data": {
      "text/plain": [
       "11"
      ]
     },
     "execution_count": 13,
     "metadata": {},
     "output_type": "execute_result"
    }
   ],
   "source": [
    "a.incrementa()\n",
    "a.valor"
   ]
  },
  {
   "cell_type": "code",
   "execution_count": 14,
   "id": "104026ed",
   "metadata": {},
   "outputs": [
    {
     "data": {
      "text/plain": [
       "12"
      ]
     },
     "execution_count": 14,
     "metadata": {},
     "output_type": "execute_result"
    }
   ],
   "source": [
    "a.incrementa()\n",
    "a.valor"
   ]
  },
  {
   "cell_type": "code",
   "execution_count": 15,
   "id": "70586121",
   "metadata": {},
   "outputs": [
    {
     "data": {
      "text/plain": [
       "11"
      ]
     },
     "execution_count": 15,
     "metadata": {},
     "output_type": "execute_result"
    }
   ],
   "source": [
    "b = TesteMl(10,1)\n",
    "b.incrementa()\n",
    "b.valor"
   ]
  },
  {
   "cell_type": "code",
   "execution_count": 16,
   "id": "e99ecd4d",
   "metadata": {},
   "outputs": [],
   "source": [
    "class TesteMl:\n",
    "    def __init__(self, v=10, i=1):\n",
    "        self.valor = v\n",
    "        self.incremento = i\n",
    "    def incrementa(self):\n",
    "        self.valor += self.incremento"
   ]
  },
  {
   "cell_type": "code",
   "execution_count": 17,
   "id": "93873c6d",
   "metadata": {},
   "outputs": [],
   "source": [
    "a = TesteMl()"
   ]
  },
  {
   "cell_type": "code",
   "execution_count": 18,
   "id": "0352173d",
   "metadata": {},
   "outputs": [],
   "source": [
    "a.incrementa()"
   ]
  },
  {
   "cell_type": "code",
   "execution_count": 19,
   "id": "6896c287",
   "metadata": {},
   "outputs": [
    {
     "data": {
      "text/plain": [
       "11"
      ]
     },
     "execution_count": 19,
     "metadata": {},
     "output_type": "execute_result"
    }
   ],
   "source": [
    "a.valor"
   ]
  },
  {
   "cell_type": "code",
   "execution_count": 20,
   "id": "a93d6634",
   "metadata": {},
   "outputs": [],
   "source": [
    "#métodos:\n",
    "#São compartilhados com todos os objetovs criados a paritr ada mesma classe\n",
    "\n",
    "#atributos:\n",
    "#não são compartilhados com outros objetos criados a partir da mesma classe\n",
    "\n",
    "#méotodos representam o comportamento \n",
    "#atributos representam o estado"
   ]
  },
  {
   "cell_type": "code",
   "execution_count": 21,
   "id": "7809e95d",
   "metadata": {},
   "outputs": [],
   "source": [
    "class TesteMl:\n",
    "    def __init__(self, v=10, i=1):\n",
    "        self.valor = v\n",
    "        self.incremento = i\n",
    "        self.valor_exponencial = v\n",
    "    def incrementa(self):\n",
    "        self.valor = self.valor + self.incremento\n",
    "    def verifica(self):\n",
    "        if self.valor > 12:\n",
    "            print(\"Ultrapassou 12\")\n",
    "        else:\n",
    "            print(\"Não ultrapassou 12\")\n",
    "    def exponencial (self, e):\n",
    "        self.valor_exponencial = self.valor**e\n",
    "    def incrementa_quadrado(self):\n",
    "        self.incrementa()\n",
    "        self.exponencial(2)"
   ]
  },
  {
   "cell_type": "code",
   "execution_count": 22,
   "id": "f36d84f4",
   "metadata": {},
   "outputs": [],
   "source": [
    "a = TesteMl()"
   ]
  },
  {
   "cell_type": "code",
   "execution_count": 23,
   "id": "77d1b5a4",
   "metadata": {},
   "outputs": [
    {
     "data": {
      "text/plain": [
       "11"
      ]
     },
     "execution_count": 23,
     "metadata": {},
     "output_type": "execute_result"
    }
   ],
   "source": [
    "a.incrementa()\n",
    "a.valor"
   ]
  },
  {
   "cell_type": "code",
   "execution_count": 24,
   "id": "261daebe",
   "metadata": {},
   "outputs": [
    {
     "name": "stdout",
     "output_type": "stream",
     "text": [
      "Não ultrapassou 12\n"
     ]
    }
   ],
   "source": [
    "a.verifica()"
   ]
  },
  {
   "cell_type": "code",
   "execution_count": 25,
   "id": "aa88a0b0",
   "metadata": {},
   "outputs": [
    {
     "data": {
      "text/plain": [
       "1331"
      ]
     },
     "execution_count": 25,
     "metadata": {},
     "output_type": "execute_result"
    }
   ],
   "source": [
    "a.exponencial(3)\n",
    "a.valor_exponencial"
   ]
  },
  {
   "cell_type": "code",
   "execution_count": 26,
   "id": "1b44e4a2",
   "metadata": {},
   "outputs": [
    {
     "data": {
      "text/plain": [
       "144"
      ]
     },
     "execution_count": 26,
     "metadata": {},
     "output_type": "execute_result"
    }
   ],
   "source": [
    "a.incrementa_quadrado()\n",
    "a.valor_exponencial"
   ]
  },
  {
   "cell_type": "code",
   "execution_count": 27,
   "id": "801e7c97",
   "metadata": {},
   "outputs": [
    {
     "data": {
      "text/plain": [
       "55"
      ]
     },
     "execution_count": 27,
     "metadata": {},
     "output_type": "execute_result"
    }
   ],
   "source": [
    "b = TesteMl(50,5)\n",
    "b.incrementa()\n",
    "b.valor"
   ]
  },
  {
   "cell_type": "code",
   "execution_count": 28,
   "id": "1fde689c",
   "metadata": {},
   "outputs": [],
   "source": [
    "#Herança\n",
    "class Calculos(TesteMl):\n",
    "    pass #passa como se fosse vazio\n",
    "    #calculos herda os métodos da classe TesteMl\n",
    "    "
   ]
  },
  {
   "cell_type": "code",
   "execution_count": 29,
   "id": "9f577e9d",
   "metadata": {},
   "outputs": [],
   "source": [
    "c = Calculos()"
   ]
  },
  {
   "cell_type": "code",
   "execution_count": 30,
   "id": "d0bb689c",
   "metadata": {},
   "outputs": [],
   "source": [
    "c.incrementa_quadrado()"
   ]
  },
  {
   "cell_type": "code",
   "execution_count": 31,
   "id": "cbfeb60e",
   "metadata": {},
   "outputs": [
    {
     "data": {
      "text/plain": [
       "121"
      ]
     },
     "execution_count": 31,
     "metadata": {},
     "output_type": "execute_result"
    }
   ],
   "source": [
    "c.valor_exponencial"
   ]
  },
  {
   "cell_type": "code",
   "execution_count": 32,
   "id": "b2ea6724",
   "metadata": {},
   "outputs": [],
   "source": [
    "class Calculos(TesteMl):\n",
    "    def decrementa(self):\n",
    "        self.valor = self.valor - self.incremento"
   ]
  },
  {
   "cell_type": "code",
   "execution_count": 33,
   "id": "7fc18188",
   "metadata": {},
   "outputs": [],
   "source": [
    "c = Calculos()"
   ]
  },
  {
   "cell_type": "code",
   "execution_count": 34,
   "id": "0b8cda04",
   "metadata": {},
   "outputs": [
    {
     "data": {
      "text/plain": [
       "11"
      ]
     },
     "execution_count": 34,
     "metadata": {},
     "output_type": "execute_result"
    }
   ],
   "source": [
    "c.incrementa()\n",
    "c.valor"
   ]
  },
  {
   "cell_type": "code",
   "execution_count": 35,
   "id": "c2b6e18d",
   "metadata": {},
   "outputs": [
    {
     "data": {
      "text/plain": [
       "10"
      ]
     },
     "execution_count": 35,
     "metadata": {},
     "output_type": "execute_result"
    }
   ],
   "source": [
    "c.decrementa()\n",
    "c.valor"
   ]
  },
  {
   "cell_type": "code",
   "execution_count": null,
   "id": "1fc99204",
   "metadata": {},
   "outputs": [],
   "source": [
    "class Calculos(TesteMl):\n",
    "    def __init__(self, d=5,):\n",
    "        self.divisor = d \n",
    "    def decrementa(self):\n",
    "        self.valor = self.valor - self.incremento\n",
    "    def divide(self):\n",
    "        self.valor = self.valor/self.divisor"
   ]
  },
  {
   "cell_type": "code",
   "execution_count": 37,
   "id": "c1307d98",
   "metadata": {},
   "outputs": [],
   "source": [
    "c = Calculos()"
   ]
  },
  {
   "cell_type": "code",
   "execution_count": null,
   "id": "14096ffd",
   "metadata": {},
   "outputs": [
    {
     "ename": "AttributeError",
     "evalue": "'Calculos' object has no attribute 'valor'",
     "output_type": "error",
     "traceback": [
      "\u001b[31m---------------------------------------------------------------------------\u001b[39m",
      "\u001b[31mAttributeError\u001b[39m                            Traceback (most recent call last)",
      "\u001b[36mCell\u001b[39m\u001b[36m \u001b[39m\u001b[32mIn[38]\u001b[39m\u001b[32m, line 1\u001b[39m\n\u001b[32m----> \u001b[39m\u001b[32m1\u001b[39m \u001b[43mc\u001b[49m\u001b[43m.\u001b[49m\u001b[43mincrementa\u001b[49m\u001b[43m(\u001b[49m\u001b[43m)\u001b[49m\n\u001b[32m      2\u001b[39m c.valor\n",
      "\u001b[36mCell\u001b[39m\u001b[36m \u001b[39m\u001b[32mIn[21]\u001b[39m\u001b[32m, line 7\u001b[39m, in \u001b[36mTesteMl.incrementa\u001b[39m\u001b[34m(self)\u001b[39m\n\u001b[32m      6\u001b[39m \u001b[38;5;28;01mdef\u001b[39;00m\u001b[38;5;250m \u001b[39m\u001b[34mincrementa\u001b[39m(\u001b[38;5;28mself\u001b[39m):\n\u001b[32m----> \u001b[39m\u001b[32m7\u001b[39m     \u001b[38;5;28mself\u001b[39m.valor = \u001b[38;5;28;43mself\u001b[39;49m\u001b[43m.\u001b[49m\u001b[43mvalor\u001b[49m + \u001b[38;5;28mself\u001b[39m.incremento\n",
      "\u001b[31mAttributeError\u001b[39m: 'Calculos' object has no attribute 'valor'"
     ]
    }
   ],
   "source": [
    "#não herdou porque um novo método construtor foi criado que sobrescreveu o antigo\n",
    "c.incrementa()\n",
    "c.valor"
   ]
  },
  {
   "cell_type": "code",
   "execution_count": 41,
   "id": "d7454ba8",
   "metadata": {},
   "outputs": [],
   "source": [
    "class Calculos(TesteMl):\n",
    "    def __init__(self, d=5,):\n",
    "        super().__init__(v=10, i=5) #faz com que a nova classe herde os valores do construtor antigo\n",
    "        self.divisor = d \n",
    "    def decrementa(self):\n",
    "        self.valor = self.valor - self.incremento\n",
    "    def divide(self):\n",
    "        self.valor = self.valor/self.divisor"
   ]
  },
  {
   "cell_type": "code",
   "execution_count": 42,
   "id": "ddae7457",
   "metadata": {},
   "outputs": [],
   "source": [
    "c = Calculos()"
   ]
  },
  {
   "cell_type": "code",
   "execution_count": 43,
   "id": "441ecd4e",
   "metadata": {},
   "outputs": [
    {
     "data": {
      "text/plain": [
       "15"
      ]
     },
     "execution_count": 43,
     "metadata": {},
     "output_type": "execute_result"
    }
   ],
   "source": [
    "c.incrementa()\n",
    "c.valor"
   ]
  },
  {
   "cell_type": "code",
   "execution_count": 44,
   "id": "7abda859",
   "metadata": {},
   "outputs": [
    {
     "data": {
      "text/plain": [
       "3.0"
      ]
     },
     "execution_count": 44,
     "metadata": {},
     "output_type": "execute_result"
    }
   ],
   "source": [
    "c.divide()\n",
    "c.valor"
   ]
  },
  {
   "cell_type": "code",
   "execution_count": null,
   "id": "4515e44d",
   "metadata": {},
   "outputs": [],
   "source": []
  }
 ],
 "metadata": {
  "kernelspec": {
   "display_name": "Python 3",
   "language": "python",
   "name": "python3"
  },
  "language_info": {
   "codemirror_mode": {
    "name": "ipython",
    "version": 3
   },
   "file_extension": ".py",
   "mimetype": "text/x-python",
   "name": "python",
   "nbconvert_exporter": "python",
   "pygments_lexer": "ipython3",
   "version": "3.11.5"
  }
 },
 "nbformat": 4,
 "nbformat_minor": 5
}
